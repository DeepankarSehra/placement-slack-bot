{
  "nbformat": 4,
  "nbformat_minor": 0,
  "metadata": {
    "colab": {
      "provenance": []
    },
    "kernelspec": {
      "name": "python3",
      "display_name": "Python 3"
    },
    "language_info": {
      "name": "python"
    }
  },
  "cells": [
    {
      "cell_type": "code",
      "execution_count": null,
      "metadata": {
        "colab": {
          "base_uri": "https://localhost:8080/"
        },
        "id": "DTYBThzocjEj",
        "outputId": "325ae2b0-af62-4edb-b111-70bbadd08da6"
      },
      "outputs": [
        {
          "output_type": "stream",
          "name": "stdout",
          "text": [
            "Requirement already satisfied: feedparser in /usr/local/lib/python3.10/dist-packages (6.0.11)\n",
            "Requirement already satisfied: html2text in /usr/local/lib/python3.10/dist-packages (2024.2.26)\n",
            "Collecting slack_sdk\n",
            "  Downloading slack_sdk-3.31.0-py2.py3-none-any.whl.metadata (15 kB)\n",
            "Requirement already satisfied: sgmllib3k in /usr/local/lib/python3.10/dist-packages (from feedparser) (1.0.0)\n",
            "Downloading slack_sdk-3.31.0-py2.py3-none-any.whl (289 kB)\n",
            "\u001b[2K   \u001b[90m━━━━━━━━━━━━━━━━━━━━━━━━━━━━━━━━━━━━━━━━\u001b[0m \u001b[32m289.8/289.8 kB\u001b[0m \u001b[31m2.2 MB/s\u001b[0m eta \u001b[36m0:00:00\u001b[0m\n",
            "\u001b[?25hInstalling collected packages: slack_sdk\n",
            "Successfully installed slack_sdk-3.31.0\n"
          ]
        }
      ],
      "source": [
        "!pip install feedparser html2text slack_sdk"
      ]
    },
    {
      "cell_type": "code",
      "source": [
        "import requests\n",
        "from time import sleep\n",
        "# import winsound\n",
        "from datetime import datetime\n",
        "from datetime import timedelta\n",
        "import logging\n",
        "logging.basicConfig(level=logging.DEBUG)\n",
        "import feedparser\n",
        "import os\n",
        "import html2text\n",
        "from slack_sdk import WebClient\n",
        "from slack_sdk.errors import SlackApiError"
      ],
      "metadata": {
        "id": "wAj90K_ydd85"
      },
      "execution_count": null,
      "outputs": []
    },
    {
      "cell_type": "code",
      "source": [
        "slack_token = \"\"\n",
        "client = WebClient(token=slack_token)\n",
        "\n",
        "cookie = ''\n",
        "name = 'mod_auth_openidc_session'\n",
        "\n",
        "def alert(msg, channel=\"blog-updates\"):\n",
        "    try:\n",
        "        response = client.chat_postMessage(\n",
        "            channel = channel,\n",
        "            text=f\"<!channel> {msg}\"\n",
        "        )\n",
        "    except SlackApiError as e:\n",
        "        # You will get a SlackApiError if \"ok\" is False\n",
        "        assert e.response[\"error\"]    # str like 'invalid_auth', 'channel_not_found'\n",
        "\n",
        "def calm_alert(msg, channel=\"blog-updates\"):\n",
        "    try:\n",
        "        response = client.chat_postMessage(\n",
        "            channel = channel,\n",
        "            text=f\"{msg}\"\n",
        "        )\n",
        "    except SlackApiError as e:\n",
        "        # You will get a SlackApiError if \"ok\" is False\n",
        "        assert e.response[\"error\"]    # str like 'invalid_auth', 'channel_not_found'\n",
        "\n",
        "s = requests.Session()\n",
        "r1 = s.get('https://campus.placements.iitb.ac.in/blog/placement/', cookies={name: cookie})\n",
        "text1 = r1.text\n",
        "walk_count = text1.casefold().count('walk'.casefold())\n",
        "manan_count = text1.casefold().count('deepankar sehra'.casefold())\n",
        "response = client.chat_postMessage(\n",
        "            channel=\"blog-updates\",\n",
        "            text=f\"I am alive and overseeing the blog\"\n",
        "        )\n",
        "i = 0\n",
        "old_summary = \"\"\n",
        "while True:\n",
        "\n",
        "    try:\n",
        "        r2 = s.get('https://campus.placements.iitb.ac.in/blog/placement/', cookies={name: cookie})\n",
        "    except:\n",
        "        alert(f'I AM FUCKING DEAD AT {current_time}', channel='testing')\n",
        "        alert(f'I AM DEAD AT {current_time}')\n",
        "\n",
        "    text2 = r2.text\n",
        "    now = datetime.now()\n",
        "    # time_change = timedelta(minutes=330)\n",
        "    # now = now + time_change\n",
        "    current_time = now.strftime(\"%H-%M-%S\")\n",
        "\n",
        "    if 'OTP' in text2:\n",
        "        print(f'cookie ded at {current_time}')\n",
        "        alert('The bot is down, please check manually')\n",
        "        alert(f'cookie ded at {current_time}', channel='testing')\n",
        "        i = 0\n",
        "        sleep(300)\n",
        "        continue\n",
        "\n",
        "    if text1!=text2:\n",
        "        feed = feedparser.parse(s.get('https://campus.placements.iitb.ac.in/blog/placement/?feed=rss2', cookies={name: cookie}).text)\n",
        "        try:\n",
        "            title = feed.entries[0]['title']\n",
        "            print(title)\n",
        "            summary = feed.entries[0]['content'][0]['value']\n",
        "        except:\n",
        "            alert(\"Something may be wrong. Check manually.\")\n",
        "            print(\"Something may be wrong. Check manually.\")\n",
        "            i = 0\n",
        "            sleep(60)\n",
        "            continue\n",
        "        summary = html2text.html2text(summary)\n",
        "        summary = summary.replace('*','')\n",
        "\n",
        "        if summary == old_summary:\n",
        "            print(\"same update\")\n",
        "            continue\n",
        "        f = open(f\"{current_time}.html\", \"w\")\n",
        "        f.write(text2)\n",
        "        f.close()\n",
        "        if text2.casefold().count('walk'.casefold()) > walk_count:\n",
        "            print(f'Possible new walk-in detected at {current_time} : {title} - \\n {summary}')\n",
        "            alert(f'Possible new walk-in detected at {current_time} : {title} - \\n {summary}')\n",
        "            walk_count = text2.casefold().count('walk'.casefold())\n",
        "            i = 0\n",
        "        else:\n",
        "            print(f\"Update detected at {current_time} : {title} - \\n {summary}\")\n",
        "            alert(f\"Update detected at {current_time} : {title} - \\n {summary}\")\n",
        "            i = 0\n",
        "        text1 = text2\n",
        "        old_summary = summary\n",
        "    i+=1\n",
        "    if i == 10:\n",
        "        print(f'I am still alive at {current_time}')\n",
        "        calm_alert(f'I am still alive at {current_time}', \"bot-status\")\n",
        "        i = 0\n",
        "    sleep(30)"
      ],
      "metadata": {
        "colab": {
          "base_uri": "https://localhost:8080/",
          "height": 180
        },
        "id": "nocdzw_pdZ6J",
        "outputId": "3d50dbef-f759-4149-d91b-03fcf48ae0a4"
      },
      "execution_count": null,
      "outputs": [
        {
          "output_type": "error",
          "ename": "KeyboardInterrupt",
          "evalue": "",
          "traceback": [
            "\u001b[0;31m---------------------------------------------------------------------------\u001b[0m",
            "\u001b[0;31mKeyboardInterrupt\u001b[0m                         Traceback (most recent call last)",
            "\u001b[0;32m<ipython-input-19-d0a9e8c5cce0>\u001b[0m in \u001b[0;36m<cell line: 38>\u001b[0;34m()\u001b[0m\n\u001b[1;32m     95\u001b[0m         \u001b[0mcalm_alert\u001b[0m\u001b[0;34m(\u001b[0m\u001b[0;34mf'I am still alive at {current_time}'\u001b[0m\u001b[0;34m,\u001b[0m \u001b[0;34m\"bot-status\"\u001b[0m\u001b[0;34m)\u001b[0m\u001b[0;34m\u001b[0m\u001b[0;34m\u001b[0m\u001b[0m\n\u001b[1;32m     96\u001b[0m         \u001b[0mi\u001b[0m \u001b[0;34m=\u001b[0m \u001b[0;36m0\u001b[0m\u001b[0;34m\u001b[0m\u001b[0;34m\u001b[0m\u001b[0m\n\u001b[0;32m---> 97\u001b[0;31m     \u001b[0msleep\u001b[0m\u001b[0;34m(\u001b[0m\u001b[0;36m30\u001b[0m\u001b[0;34m)\u001b[0m\u001b[0;34m\u001b[0m\u001b[0;34m\u001b[0m\u001b[0m\n\u001b[0m",
            "\u001b[0;31mKeyboardInterrupt\u001b[0m: "
          ]
        }
      ]
    }
  ]
}